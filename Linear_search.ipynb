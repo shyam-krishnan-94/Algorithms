{
  "nbformat": 4,
  "nbformat_minor": 0,
  "metadata": {
    "colab": {
      "provenance": []
    },
    "kernelspec": {
      "name": "python3",
      "display_name": "Python 3"
    },
    "language_info": {
      "name": "python"
    }
  },
  "cells": [
    {
      "cell_type": "code",
      "execution_count": 1,
      "metadata": {
        "id": "Hm0F-b8UfS7Z"
      },
      "outputs": [],
      "source": [
        "def linear_search(arr, target):\n",
        "    # TODO: Implement this function\n",
        "    for i in range(0,len(arr)):\n",
        "        if arr[i]==target:\n",
        "            return i\n",
        "    return -1\n",
        "    pass"
      ]
    },
    {
      "cell_type": "code",
      "source": [
        "print(linear_search(arr=[1,2,3,4,5],target=4))"
      ],
      "metadata": {
        "colab": {
          "base_uri": "https://localhost:8080/"
        },
        "id": "Q5jqMzKafYoA",
        "outputId": "6d204f1e-f541-426c-c141-d9d0313de71d"
      },
      "execution_count": 2,
      "outputs": [
        {
          "output_type": "stream",
          "name": "stdout",
          "text": [
            "3\n"
          ]
        }
      ]
    }
  ]
}