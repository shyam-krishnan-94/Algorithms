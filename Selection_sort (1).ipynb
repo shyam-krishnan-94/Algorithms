{
  "nbformat": 4,
  "nbformat_minor": 0,
  "metadata": {
    "colab": {
      "provenance": []
    },
    "kernelspec": {
      "name": "python3",
      "display_name": "Python 3"
    },
    "language_info": {
      "name": "python"
    }
  },
  "cells": [
    {
      "cell_type": "code",
      "execution_count": 27,
      "metadata": {
        "id": "rWKu35pjVUEz"
      },
      "outputs": [],
      "source": [
        "def selection_sort(arr):\n",
        "  for i in range(0,len(arr)-1):\n",
        "    min=arr[i]\n",
        "    min_pos=i\n",
        "    for j in range(i+1,len(arr)):\n",
        "      if arr[j]<min:\n",
        "        min=arr[j]\n",
        "        min_pos=j\n",
        "    c=arr[i]\n",
        "    arr[i]=min\n",
        "    arr[min_pos]=c\n",
        "  return arr\n",
        "#Ascending order"
      ]
    },
    {
      "cell_type": "code",
      "source": [
        "def selection_sort_desc(arr):\n",
        "  for i in range(0,len(arr)-1):\n",
        "    max=arr[i]\n",
        "    max_pos=i\n",
        "    for j in range(i+1,len(arr)):\n",
        "      if arr[j]>max:\n",
        "        max=arr[j]\n",
        "        max_pos=j\n",
        "    c=arr[i]\n",
        "    arr[i]=max\n",
        "    arr[max_pos]=c\n",
        "  return arr\n",
        "#Descending order"
      ],
      "metadata": {
        "id": "9fHkj6O5df8F"
      },
      "execution_count": 26,
      "outputs": []
    },
    {
      "cell_type": "code",
      "source": [
        "print(selection_sort_desc([12,25,11,45,23,64]))"
      ],
      "metadata": {
        "colab": {
          "base_uri": "https://localhost:8080/"
        },
        "id": "WhcZ37eqdvbO",
        "outputId": "db948cc4-4841-4214-d0bc-ad64b29121e1"
      },
      "execution_count": 28,
      "outputs": [
        {
          "output_type": "stream",
          "name": "stdout",
          "text": [
            "[64, 45, 25, 23, 12, 11]\n"
          ]
        }
      ]
    },
    {
      "cell_type": "code",
      "source": [
        "for i in range(6,6):\n",
        "  print(\"loop executed\")\n",
        "print(\"loop not executed\")"
      ],
      "metadata": {
        "colab": {
          "base_uri": "https://localhost:8080/"
        },
        "id": "Mprn_0szdnsy",
        "outputId": "eec0e7d9-8fb9-430a-86fd-685aa09e5fe5"
      },
      "execution_count": 13,
      "outputs": [
        {
          "output_type": "stream",
          "name": "stdout",
          "text": [
            "loop not executed\n"
          ]
        }
      ]
    },
    {
      "cell_type": "code",
      "source": [
        "print(selection_sort([1,2,3,4,5]))"
      ],
      "metadata": {
        "colab": {
          "base_uri": "https://localhost:8080/"
        },
        "id": "amRJtTA4auU0",
        "outputId": "749f9da2-8535-4b70-8350-9ca7b53f9715"
      },
      "execution_count": 29,
      "outputs": [
        {
          "output_type": "stream",
          "name": "stdout",
          "text": [
            "[1, 2, 3, 4, 5]\n"
          ]
        }
      ]
    }
  ]
}