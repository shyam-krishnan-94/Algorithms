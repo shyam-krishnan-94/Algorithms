{
  "nbformat": 4,
  "nbformat_minor": 0,
  "metadata": {
    "colab": {
      "provenance": []
    },
    "kernelspec": {
      "name": "python3",
      "display_name": "Python 3"
    },
    "language_info": {
      "name": "python"
    }
  },
  "cells": [
    {
      "cell_type": "code",
      "execution_count": 12,
      "metadata": {
        "id": "pvPWug23paTv"
      },
      "outputs": [],
      "source": [
        "def binary_search(arr,target):\n",
        "  start=0\n",
        "  end=len(arr)-1\n",
        "  while start<=end:\n",
        "    mid=(start+end)//2\n",
        "    if(arr[mid]==target):\n",
        "      return mid\n",
        "    elif(arr[mid]>target):\n",
        "      end=mid-1\n",
        "    else:\n",
        "      start=mid+1\n",
        "  return -1"
      ]
    },
    {
      "cell_type": "code",
      "source": [
        "print(binary_search(arr=[10,20,30,40,50],target=-1))"
      ],
      "metadata": {
        "colab": {
          "base_uri": "https://localhost:8080/"
        },
        "id": "S8ziBJpXqxYz",
        "outputId": "0e144d24-6beb-4419-a385-e9c35a8397ec"
      },
      "execution_count": 16,
      "outputs": [
        {
          "output_type": "stream",
          "name": "stdout",
          "text": [
            "-1\n"
          ]
        }
      ]
    }
  ]
}