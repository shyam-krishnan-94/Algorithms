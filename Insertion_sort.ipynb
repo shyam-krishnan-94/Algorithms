{
  "nbformat": 4,
  "nbformat_minor": 0,
  "metadata": {
    "colab": {
      "provenance": []
    },
    "kernelspec": {
      "name": "python3",
      "display_name": "Python 3"
    },
    "language_info": {
      "name": "python"
    }
  },
  "cells": [
    {
      "cell_type": "code",
      "execution_count": 1,
      "metadata": {
        "id": "mi53PJKTUzlA"
      },
      "outputs": [],
      "source": [
        "def insertion_sort(arr):\n",
        "  #Round-2 alone\n",
        "  for i in range(0,len(arr)-1):\n",
        "    for j in range(i+1,0,-1):\n",
        "      count=0\n",
        "      if(arr[j]<arr[j-1]):\n",
        "        count=count+1\n",
        "        arr[j],arr[j-1]=arr[j-1],arr[j]\n",
        "      if count==0:\n",
        "        break\n",
        "  return arr\n",
        "\n",
        "  pass"
      ]
    },
    {
      "cell_type": "code",
      "source": [
        "print(insertion_sort([]))"
      ],
      "metadata": {
        "colab": {
          "base_uri": "https://localhost:8080/"
        },
        "id": "sopgvpZ7U9z3",
        "outputId": "1e1a30de-b236-4fde-eec8-90bb83a417ac"
      },
      "execution_count": 5,
      "outputs": [
        {
          "output_type": "stream",
          "name": "stdout",
          "text": [
            "[]\n"
          ]
        }
      ]
    }
  ]
}