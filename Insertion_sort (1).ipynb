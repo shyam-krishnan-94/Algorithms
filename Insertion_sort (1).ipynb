{
  "nbformat": 4,
  "nbformat_minor": 0,
  "metadata": {
    "colab": {
      "provenance": []
    },
    "kernelspec": {
      "name": "python3",
      "display_name": "Python 3"
    },
    "language_info": {
      "name": "python"
    }
  },
  "cells": [
    {
      "cell_type": "code",
      "execution_count": 2,
      "metadata": {
        "id": "mi53PJKTUzlA"
      },
      "outputs": [],
      "source": [
        "#Only inserting by shifting 1 by 1\n",
        "def insertion_sort(arr):\n",
        "  #Round-2 alone\n",
        "  for i in range(0,len(arr)-1):\n",
        "    for j in range(i+1,0,-1):\n",
        "      count=0\n",
        "      if(arr[j]<arr[j-1]):\n",
        "        count=count+1\n",
        "        arr[j],arr[j-1]=arr[j-1],arr[j]\n",
        "      if count==0:\n",
        "        break\n",
        "  return arr\n",
        "\n",
        "  pass"
      ]
    },
    {
      "cell_type": "code",
      "source": [
        "#Shifting all elements and inserting the number in the correct position\n",
        "def insertion_sort_mod(arr):\n",
        "  for i in range(1,len(arr)):\n",
        "    current_element=arr[i]\n",
        "    for j in range(i-1,-1,-1):\n",
        "      if(current_element>arr[j]):\n",
        "        break\n",
        "      else:\n",
        "        arr[j+1]=arr[j]\n",
        "      arr[j]=current_element\n",
        "  return arr\n",
        "  pass"
      ],
      "metadata": {
        "id": "qoxz0Q2X9DbQ"
      },
      "execution_count": 20,
      "outputs": []
    },
    {
      "cell_type": "code",
      "source": [
        "print(insertion_sort([12,25,11,34,90,22]))"
      ],
      "metadata": {
        "colab": {
          "base_uri": "https://localhost:8080/"
        },
        "id": "sopgvpZ7U9z3",
        "outputId": "2f6005f0-5232-4cc7-e1b2-228c9a9d05ed"
      },
      "execution_count": 3,
      "outputs": [
        {
          "output_type": "stream",
          "name": "stdout",
          "text": [
            "[11, 12, 22, 25, 34, 90]\n"
          ]
        }
      ]
    },
    {
      "cell_type": "code",
      "source": [
        "print(insertion_sort_mod([12,25,11,34,90,22]))"
      ],
      "metadata": {
        "colab": {
          "base_uri": "https://localhost:8080/"
        },
        "id": "zwAMrIMx_IpD",
        "outputId": "e889ef67-48a7-4a7a-b1e2-38d179391ac3"
      },
      "execution_count": 21,
      "outputs": [
        {
          "output_type": "stream",
          "name": "stdout",
          "text": [
            "[11, 12, 22, 25, 34, 90]\n"
          ]
        }
      ]
    }
  ]
}