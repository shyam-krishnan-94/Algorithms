{
  "nbformat": 4,
  "nbformat_minor": 0,
  "metadata": {
    "colab": {
      "provenance": []
    },
    "kernelspec": {
      "name": "python3",
      "display_name": "Python 3"
    },
    "language_info": {
      "name": "python"
    }
  },
  "cells": [
    {
      "cell_type": "code",
      "execution_count": 4,
      "metadata": {
        "id": "2z5r4oKSaBcz"
      },
      "outputs": [],
      "source": [
        "#Arranging in Ascending order\n",
        "def bubble_sort_asc(arr):\n",
        "  for i in range(0,len(arr)):\n",
        "    for j in range(0,len(arr)-1-i):\n",
        "      if arr[j]>arr[j+1]:\n",
        "        a=arr[j]\n",
        "        arr[j]=arr[j+1]\n",
        "        arr[j+1]=a\n",
        "  return arr"
      ]
    },
    {
      "cell_type": "code",
      "source": [
        "#Arranging in Descending order\n",
        "def bubble_sort_desc(arr):\n",
        "  for i in range(0,len(arr)):\n",
        "    for j in range(0,len(arr)-1-i):\n",
        "      if arr[j]<arr[j+1]:\n",
        "        a=arr[j]\n",
        "        arr[j]=arr[j+1]\n",
        "        arr[j+1]=a\n",
        "  return arr"
      ],
      "metadata": {
        "id": "HWrojoJHdmp2"
      },
      "execution_count": 6,
      "outputs": []
    },
    {
      "cell_type": "code",
      "source": [
        "print(bubble_sort_desc([85,86,87,88,89,90]))"
      ],
      "metadata": {
        "colab": {
          "base_uri": "https://localhost:8080/"
        },
        "id": "6myv9I5xdxKQ",
        "outputId": "a22f6be0-3ecd-48cc-eaa9-a969616210eb"
      },
      "execution_count": 7,
      "outputs": [
        {
          "output_type": "stream",
          "name": "stdout",
          "text": [
            "[90, 89, 88, 87, 86, 85]\n"
          ]
        }
      ]
    },
    {
      "cell_type": "code",
      "source": [
        "print(bubble_sort_asc([90,89,88,87,86,85]))"
      ],
      "metadata": {
        "colab": {
          "base_uri": "https://localhost:8080/"
        },
        "id": "-oWrEBnAb_CC",
        "outputId": "450feb8e-c9fe-4c8b-99ec-f9f781688c2d"
      },
      "execution_count": 5,
      "outputs": [
        {
          "output_type": "stream",
          "name": "stdout",
          "text": [
            "[85, 86, 87, 88, 89, 90]\n"
          ]
        }
      ]
    }
  ]
}